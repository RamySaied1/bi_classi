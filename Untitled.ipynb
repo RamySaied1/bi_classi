{
 "cells": [
  {
   "cell_type": "code",
   "execution_count": 2,
   "metadata": {},
   "outputs": [],
   "source": [
    "import pandas as  pd\n",
    "import matplotlib as mpl\n",
    "import numpy as np\n",
    "import seaborn as sns"
   ]
  },
  {
   "cell_type": "code",
   "execution_count": 3,
   "metadata": {},
   "outputs": [],
   "source": [
    "train = pd.read_csv(\"training.csv\",sep=';')\n",
    "test = pd.read_csv(\"validation.csv\",sep=';')"
   ]
  },
  {
   "cell_type": "markdown",
   "metadata": {},
   "source": [
    "# Preprocessing"
   ]
  },
  {
   "cell_type": "code",
   "execution_count": 5,
   "metadata": {},
   "outputs": [
    {
     "name": "stdout",
     "output_type": "stream",
     "text": [
      "  variable1 variable2  variable3 variable4 variable5 variable6 variable7  \\\n",
      "0         a     17,92    5,4e-05         u         g         c         v   \n",
      "1         b     16,92   3,35e-05         y         p         k         v   \n",
      "2         b     31,25  0,0001125         u         g        ff        ff   \n",
      "3         a     48,17  0,0001335         u         g         i         o   \n",
      "4         b     32,33    0,00035         u         g         k         v   \n",
      "\n",
      "  variable8 variable9 variable10  variable11 variable12 variable13  \\\n",
      "0      1,75         f          t           1          t          g   \n",
      "1      0,29         f          f           0          f          s   \n",
      "2         0         f          t           1          f          g   \n",
      "3     0,335         f          f           0          f          g   \n",
      "4       0,5         f          f           0          t          g   \n",
      "\n",
      "   variable14  variable15  variable17 variable18  variable19 classLabel  \n",
      "0        80.0           5    800000.0          t           0        no.  \n",
      "1       200.0           0   2000000.0        NaN           0        no.  \n",
      "2        96.0          19    960000.0          t           0        no.  \n",
      "3         0.0         120         0.0        NaN           0        no.  \n",
      "4       232.0           0   2320000.0          f           0        no.  \n",
      "        variable11   variable14     variable15    variable17   variable19\n",
      "count  3700.000000  3600.000000    3700.000000  3.600000e+03  3700.000000\n",
      "mean      4.160000   162.695000    2246.705946  1.626950e+06     0.925405\n",
      "std       6.750553   156.045682    8708.571126  1.560457e+06     0.262772\n",
      "min       0.000000     0.000000       0.000000  0.000000e+00     0.000000\n",
      "25%       0.000000     0.000000       0.000000  0.000000e+00     1.000000\n",
      "50%       2.000000   120.000000     113.000000  1.200000e+06     1.000000\n",
      "75%       6.000000   280.000000    1059.750000  2.800000e+06     1.000000\n",
      "max      67.000000  1160.000000  100000.000000  1.160000e+07     1.000000\n"
     ]
    }
   ],
   "source": [
    "###### see basics about the data\n",
    "print (train.head())\n",
    "print (train.describe())"
   ]
  },
  {
   "cell_type": "code",
   "execution_count": 4,
   "metadata": {},
   "outputs": [
    {
     "name": "stdout",
     "output_type": "stream",
     "text": [
      "total number of rows\n",
      "3700\n",
      "number of rows have  null values \n",
      "0\n"
     ]
    }
   ],
   "source": [
    "\n",
    "print (\"total number of rows\")\n",
    "print(train.shape[0])\n",
    "print (\"number of rows have  null values \")\n",
    "print(train.shape[0]-(train.dropna(how=\"all\")).shape[0])\n"
   ]
  },
  {
   "cell_type": "code",
   "execution_count": null,
   "metadata": {},
   "outputs": [],
   "source": []
  }
 ],
 "metadata": {
  "kernelspec": {
   "display_name": "Python 3",
   "language": "python",
   "name": "python3"
  },
  "language_info": {
   "codemirror_mode": {
    "name": "ipython",
    "version": 3
   },
   "file_extension": ".py",
   "mimetype": "text/x-python",
   "name": "python",
   "nbconvert_exporter": "python",
   "pygments_lexer": "ipython3",
   "version": "3.6.7"
  }
 },
 "nbformat": 4,
 "nbformat_minor": 2
}
